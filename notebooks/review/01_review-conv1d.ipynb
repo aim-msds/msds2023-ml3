{
 "cells": [
  {
   "cell_type": "markdown",
   "id": "135c9c54-32e2-472f-b244-53f133b8653c",
   "metadata": {},
   "source": [
    "## 1D Convolutions with PyTorch\n",
    "\n",
    "Click [here](https://pytorch.org/docs/stable/generated/torch.nn.Conv1d.html) for the full documentation of PyTorch's 1D Convolutional layer."
   ]
  },
  {
   "cell_type": "code",
   "execution_count": 1,
   "id": "d696bc2e-44ed-4c53-9613-86b73bd5c6b2",
   "metadata": {
    "execution": {
     "iopub.execute_input": "2023-05-09T09:22:01.947720Z",
     "iopub.status.busy": "2023-05-09T09:22:01.947720Z",
     "iopub.status.idle": "2023-05-09T09:22:03.310960Z",
     "shell.execute_reply": "2023-05-09T09:22:03.310960Z",
     "shell.execute_reply.started": "2023-05-09T09:22:01.947720Z"
    },
    "tags": []
   },
   "outputs": [],
   "source": [
    "import numpy as np\n",
    "\n",
    "import torch\n",
    "import torch.nn as nn"
   ]
  },
  {
   "cell_type": "code",
   "execution_count": 2,
   "id": "ff749023-de01-4189-b7d5-71b29385e967",
   "metadata": {
    "execution": {
     "iopub.execute_input": "2023-05-09T09:22:03.312963Z",
     "iopub.status.busy": "2023-05-09T09:22:03.312963Z",
     "iopub.status.idle": "2023-05-09T09:22:03.326975Z",
     "shell.execute_reply": "2023-05-09T09:22:03.326975Z",
     "shell.execute_reply.started": "2023-05-09T09:22:03.312963Z"
    },
    "tags": []
   },
   "outputs": [
    {
     "name": "stdout",
     "output_type": "stream",
     "text": [
      "torch.Size([1, 1, 10])\n",
      "tensor([[[0., 1., 2., 3., 4., 5., 6., 7., 8., 9.]]])\n"
     ]
    }
   ],
   "source": [
    "# my 1 dimensional data\n",
    "x = torch.tensor([[[0., 1., 2., 3., 4., 5., 6., 7., 8., 9.]]]) # shape is (batch_size, in_channels, input_length)\n",
    "print(x.shape)\n",
    "print(x)"
   ]
  },
  {
   "cell_type": "markdown",
   "id": "5aa52af8-8bb3-4846-b128-5509ff40b0b9",
   "metadata": {},
   "source": [
    "![image.png](torch-conv1d.png)"
   ]
  },
  {
   "cell_type": "code",
   "execution_count": 3,
   "id": "a94e999c-570d-4006-9e2c-d1c566296f68",
   "metadata": {
    "execution": {
     "iopub.execute_input": "2023-05-09T09:22:03.327976Z",
     "iopub.status.busy": "2023-05-09T09:22:03.327976Z",
     "iopub.status.idle": "2023-05-09T09:22:03.359004Z",
     "shell.execute_reply": "2023-05-09T09:22:03.359004Z",
     "shell.execute_reply.started": "2023-05-09T09:22:03.327976Z"
    },
    "tags": []
   },
   "outputs": [
    {
     "name": "stdout",
     "output_type": "stream",
     "text": [
      "torch.Size([1, 1, 3])\n",
      "Parameter containing:\n",
      "tensor([[[1., 1., 1.]]], requires_grad=True)\n"
     ]
    }
   ],
   "source": [
    "# Create 1d conv layer\n",
    "in_channels = 1\n",
    "out_channels = 1\n",
    "kernel_size = 3\n",
    "my_conv1d = nn.Conv1d(in_channels, out_channels, kernel_size, bias=False) # stride=1, padding=0, padding_mode='zeros', dilation=1\n",
    "\n",
    "# Overwrite weights & bias\n",
    "my_conv1d.weight = nn.Parameter(torch.ones(out_channels, in_channels, kernel_size)) # shape is (out_channels, in_channels, kernel_size)\n",
    " \n",
    "for p in my_conv1d.parameters():\n",
    "    print(p.shape)\n",
    "    print(p)"
   ]
  },
  {
   "cell_type": "markdown",
   "id": "a524c7d3-be59-42d2-98fc-73fdef14e805",
   "metadata": {},
   "source": [
    "![image.png](in-out-shapes.png)"
   ]
  },
  {
   "cell_type": "code",
   "execution_count": 4,
   "id": "b6f4b9bd-be90-487a-ad53-9001398e759c",
   "metadata": {
    "execution": {
     "iopub.execute_input": "2023-05-09T09:22:03.360005Z",
     "iopub.status.busy": "2023-05-09T09:22:03.360005Z",
     "iopub.status.idle": "2023-05-09T09:22:03.375018Z",
     "shell.execute_reply": "2023-05-09T09:22:03.375018Z",
     "shell.execute_reply.started": "2023-05-09T09:22:03.360005Z"
    },
    "tags": []
   },
   "outputs": [
    {
     "name": "stdout",
     "output_type": "stream",
     "text": [
      "input    : [[[0. 1. 2. 3. 4. 5. 6. 7. 8. 9.]]]\n",
      "kernel   : [[[1. 1. 1.]]]\n",
      "output   : [[[ 3.  6.  9. 12. 15. 18. 21. 24.]]]\n",
      "out shape: (1, 1, 8)\n"
     ]
    }
   ],
   "source": [
    "with torch.no_grad():\n",
    "    output = my_conv1d(x)\n",
    "    print(f'input    : {x.numpy()}')\n",
    "    print(f'kernel   : {my_conv1d.weight.numpy()}')\n",
    "    print(f'output   : {output.numpy()}')\n",
    "    print(f'out shape: {output.numpy().shape}')"
   ]
  },
  {
   "cell_type": "code",
   "execution_count": 5,
   "id": "16fe3eb7-44d4-40d4-8861-5c0813897a43",
   "metadata": {
    "execution": {
     "iopub.execute_input": "2023-05-09T09:22:03.376019Z",
     "iopub.status.busy": "2023-05-09T09:22:03.376019Z",
     "iopub.status.idle": "2023-05-09T09:22:03.391033Z",
     "shell.execute_reply": "2023-05-09T09:22:03.391033Z",
     "shell.execute_reply.started": "2023-05-09T09:22:03.376019Z"
    },
    "tags": []
   },
   "outputs": [
    {
     "name": "stdout",
     "output_type": "stream",
     "text": [
      "Step 0: sum([0. 1. 2.]*[1. 1. 1.]) = 3.0\n",
      "Step 1: sum([1. 2. 3.]*[1. 1. 1.]) = 6.0\n",
      "Step 2: sum([2. 3. 4.]*[1. 1. 1.]) = 9.0\n",
      "Step 3: sum([3. 4. 5.]*[1. 1. 1.]) = 12.0\n",
      "Step 4: sum([4. 5. 6.]*[1. 1. 1.]) = 15.0\n",
      "Step 5: sum([5. 6. 7.]*[1. 1. 1.]) = 18.0\n",
      "Step 6: sum([6. 7. 8.]*[1. 1. 1.]) = 21.0\n",
      "Step 7: sum([7. 8. 9.]*[1. 1. 1.]) = 24.0\n",
      "Final : [ 3.  6.  9. 12. 15. 18. 21. 24.]\n"
     ]
    }
   ],
   "source": [
    "# Implementation using numpy and for loops\n",
    "f = np.array([0., 1., 2., 3., 4., 5., 6., 7., 8., 9.])\n",
    "g = np.array([1., 1., 1.])\n",
    "\n",
    "l_in = x.shape[2]\n",
    "padding = 0\n",
    "dilation = 1\n",
    "kernel_size = 3\n",
    "stride = 1\n",
    "\n",
    "l_out = ((l_in + 2*padding - dilation*(kernel_size - 1) - 1)/stride) + 1\n",
    "\n",
    "# slide the filter along input window, multiply, sum\n",
    "output = []\n",
    "for i in range(int(l_out)):\n",
    "    print(f'Step {i}: sum({f[i:i+kernel_size]}*{g}) = {np.sum(g*f[i:i+kernel_size])}')\n",
    "    output.append(np.sum(g*f[i:i+kernel_size]))\n",
    "output = np.stack(output)\n",
    "\n",
    "print(f'Final : {output}')"
   ]
  },
  {
   "cell_type": "code",
   "execution_count": 6,
   "id": "de89c8ef-d2ea-4e39-a5c9-8aa42c4ee070",
   "metadata": {
    "execution": {
     "iopub.execute_input": "2023-05-09T09:22:03.392034Z",
     "iopub.status.busy": "2023-05-09T09:22:03.392034Z",
     "iopub.status.idle": "2023-05-09T09:22:03.407048Z",
     "shell.execute_reply": "2023-05-09T09:22:03.407048Z",
     "shell.execute_reply.started": "2023-05-09T09:22:03.392034Z"
    },
    "tags": []
   },
   "outputs": [
    {
     "name": "stdout",
     "output_type": "stream",
     "text": [
      "torch.Size([2, 1, 3])\n",
      "Parameter containing:\n",
      "tensor([[[-0.1350, -0.3093,  0.4472]],\n",
      "\n",
      "        [[-0.0927, -0.3136,  0.2532]]], requires_grad=True)\n"
     ]
    }
   ],
   "source": [
    "my_conv1d = nn.Conv1d(in_channels=1, out_channels=2, kernel_size=3, bias=False) # stride=1, padding=0, padding_mode='zeros', dilation=1\n",
    " \n",
    "for p in my_conv1d.parameters():\n",
    "    print(p.shape)\n",
    "    print(p)"
   ]
  },
  {
   "cell_type": "code",
   "execution_count": 7,
   "id": "9de64146-cfe8-4b74-8f23-706171b9597e",
   "metadata": {
    "execution": {
     "iopub.execute_input": "2023-05-09T09:22:03.409049Z",
     "iopub.status.busy": "2023-05-09T09:22:03.409049Z",
     "iopub.status.idle": "2023-05-09T09:22:03.423062Z",
     "shell.execute_reply": "2023-05-09T09:22:03.423062Z",
     "shell.execute_reply.started": "2023-05-09T09:22:03.409049Z"
    },
    "tags": []
   },
   "outputs": [
    {
     "name": "stdout",
     "output_type": "stream",
     "text": [
      "input    : [[[0. 1. 2. 3. 4. 5. 6. 7. 8. 9.]]]\n",
      "kernel   :\n",
      "[[[1. 1. 1.]]\n",
      "\n",
      " [[2. 2. 2.]]]\n",
      "output   :\n",
      "[[[ 3.  6.  9. 12. 15. 18. 21. 24.]\n",
      "  [ 6. 12. 18. 24. 30. 36. 42. 48.]]]\n",
      "out shape: (1, 2, 8)\n"
     ]
    }
   ],
   "source": [
    "my_conv1d = nn.Conv1d(in_channels=1, out_channels=2, kernel_size=3, bias=False) # stride=1, padding=0, padding_mode='zeros', dilation=1\n",
    "my_conv1d.weight = nn.Parameter(torch.tensor([[[1., 1., 1.]],\n",
    "                                              [[2., 2., 2.]]])) # shape is (out_channels, in_channels, kernel_size)\n",
    " \n",
    "with torch.no_grad():\n",
    "    output = my_conv1d(x)\n",
    "    print(f'input    : {x.numpy()}')\n",
    "    print(f'kernel   :\\n{my_conv1d.weight.numpy()}')\n",
    "    print(f'output   :\\n{output.numpy()}')\n",
    "    print(f'out shape: {output.numpy().shape}')"
   ]
  },
  {
   "cell_type": "markdown",
   "id": "cfa8123a-c535-44c2-8081-1bb1329f5844",
   "metadata": {},
   "source": [
    "---"
   ]
  },
  {
   "cell_type": "code",
   "execution_count": 8,
   "id": "4924112e-5172-43e6-97c1-b3c95e371d83",
   "metadata": {
    "execution": {
     "iopub.execute_input": "2023-05-09T09:22:03.424063Z",
     "iopub.status.busy": "2023-05-09T09:22:03.424063Z",
     "iopub.status.idle": "2023-05-09T09:22:03.439076Z",
     "shell.execute_reply": "2023-05-09T09:22:03.439076Z",
     "shell.execute_reply.started": "2023-05-09T09:22:03.424063Z"
    },
    "tags": []
   },
   "outputs": [
    {
     "name": "stdout",
     "output_type": "stream",
     "text": [
      "input    : [[[0. 1. 2. 3. 4. 5. 6. 7. 8. 9.]]]\n",
      "kernel   : [[[1. 1. 1.]]]\n",
      "output   : [[[ 3.  6.  9. 12. 15. 18. 21. 24.]]]\n",
      "out shape: (1, 1, 8)\n"
     ]
    }
   ],
   "source": [
    "my_conv1d = nn.Conv1d(in_channels=1, out_channels=1, kernel_size=3, bias=False, stride=1, padding=0, padding_mode='zeros', dilation=1)\n",
    "my_conv1d.weight = nn.Parameter(torch.ones(1, 1, 3))\n",
    " \n",
    "with torch.no_grad():\n",
    "    output = my_conv1d(x)\n",
    "    print(f'input    : {x.numpy()}')\n",
    "    print(f'kernel   : {my_conv1d.weight.numpy()}')\n",
    "    print(f'output   : {output.numpy()}')\n",
    "    print(f'out shape: {output.numpy().shape}')"
   ]
  },
  {
   "cell_type": "code",
   "execution_count": 9,
   "id": "09adf120-e365-4294-ab10-7d752fcf27c3",
   "metadata": {
    "execution": {
     "iopub.execute_input": "2023-05-09T09:22:03.440077Z",
     "iopub.status.busy": "2023-05-09T09:22:03.440077Z",
     "iopub.status.idle": "2023-05-09T09:22:03.455094Z",
     "shell.execute_reply": "2023-05-09T09:22:03.455094Z",
     "shell.execute_reply.started": "2023-05-09T09:22:03.440077Z"
    },
    "tags": []
   },
   "outputs": [
    {
     "name": "stdout",
     "output_type": "stream",
     "text": [
      "input    : [[[0. 1. 2. 3. 4. 5. 6. 7. 8. 9.]]]\n",
      "kernel   : [[[1. 1. 1.]]]\n",
      "output   : [[[ 3.  9. 15. 21.]]]\n",
      "out shape: (1, 1, 4)\n"
     ]
    }
   ],
   "source": [
    "my_conv1d = nn.Conv1d(in_channels=1, out_channels=1, kernel_size=3, bias=False, stride=2, padding=0, padding_mode='zeros', dilation=1)\n",
    "my_conv1d.weight = nn.Parameter(torch.ones(1, 1, 3))\n",
    " \n",
    "with torch.no_grad():\n",
    "    output = my_conv1d(x)\n",
    "    print(f'input    : {x.numpy()}')\n",
    "    print(f'kernel   : {my_conv1d.weight.numpy()}')\n",
    "    print(f'output   : {output.numpy()}')\n",
    "    print(f'out shape: {output.numpy().shape}')"
   ]
  },
  {
   "cell_type": "code",
   "execution_count": 10,
   "id": "19a78a43-3e44-4f4e-9762-73ce0288de23",
   "metadata": {
    "execution": {
     "iopub.execute_input": "2023-05-09T09:22:03.457093Z",
     "iopub.status.busy": "2023-05-09T09:22:03.456093Z",
     "iopub.status.idle": "2023-05-09T09:22:03.471154Z",
     "shell.execute_reply": "2023-05-09T09:22:03.471154Z",
     "shell.execute_reply.started": "2023-05-09T09:22:03.456093Z"
    },
    "tags": []
   },
   "outputs": [
    {
     "name": "stdout",
     "output_type": "stream",
     "text": [
      "input    : [[[0. 1. 2. 3. 4. 5. 6. 7. 8. 9.]]]\n",
      "kernel   : [[[1. 1. 1.]]]\n",
      "output   : [[[ 1.  3.  6.  9. 12. 15. 18. 21. 24. 17.]]]\n",
      "out shape: (1, 1, 10)\n"
     ]
    }
   ],
   "source": [
    "my_conv1d = nn.Conv1d(in_channels=1, out_channels=1, kernel_size=3, bias=False, stride=1, padding=1, padding_mode='zeros', dilation=1)\n",
    "my_conv1d.weight = nn.Parameter(torch.ones(1, 1, 3))\n",
    " \n",
    "with torch.no_grad():\n",
    "    output = my_conv1d(x)\n",
    "    print(f'input    : {x.numpy()}')\n",
    "    print(f'kernel   : {my_conv1d.weight.numpy()}')\n",
    "    print(f'output   : {output.numpy()}')\n",
    "    print(f'out shape: {output.numpy().shape}')"
   ]
  },
  {
   "cell_type": "code",
   "execution_count": 11,
   "id": "1f28bf14-0108-403d-aa3b-1a4ee25bf1c9",
   "metadata": {
    "execution": {
     "iopub.execute_input": "2023-05-09T09:22:03.473108Z",
     "iopub.status.busy": "2023-05-09T09:22:03.472106Z",
     "iopub.status.idle": "2023-05-09T09:22:03.486120Z",
     "shell.execute_reply": "2023-05-09T09:22:03.486120Z",
     "shell.execute_reply.started": "2023-05-09T09:22:03.473108Z"
    },
    "tags": []
   },
   "outputs": [
    {
     "name": "stdout",
     "output_type": "stream",
     "text": [
      "input    : [[[0. 1. 2. 3. 4. 5. 6. 7. 8. 9.]]]\n",
      "kernel   : [[[1. 1. 1.]]]\n",
      "output   : [[[ 6.  9. 12. 15. 18. 21.]]]\n",
      "out shape: (1, 1, 6)\n"
     ]
    }
   ],
   "source": [
    "my_conv1d = nn.Conv1d(in_channels=1, out_channels=1, kernel_size=3, bias=False, stride=1, padding=0, padding_mode='zeros', dilation=2)\n",
    "my_conv1d.weight = nn.Parameter(torch.ones(1, 1, 3))\n",
    " \n",
    "with torch.no_grad():\n",
    "    output = my_conv1d(x)\n",
    "    print(f'input    : {x.numpy()}')\n",
    "    print(f'kernel   : {my_conv1d.weight.numpy()}')\n",
    "    print(f'output   : {output.numpy()}')\n",
    "    print(f'out shape: {output.numpy().shape}')"
   ]
  },
  {
   "cell_type": "code",
   "execution_count": 16,
   "id": "c17076b5-2883-4044-95ce-bbf0fba4a83f",
   "metadata": {
    "execution": {
     "iopub.execute_input": "2023-05-09T09:22:12.560251Z",
     "iopub.status.busy": "2023-05-09T09:22:12.560251Z",
     "iopub.status.idle": "2023-05-09T09:22:12.566256Z",
     "shell.execute_reply": "2023-05-09T09:22:12.566256Z",
     "shell.execute_reply.started": "2023-05-09T09:22:12.560251Z"
    },
    "tags": []
   },
   "outputs": [
    {
     "name": "stdout",
     "output_type": "stream",
     "text": [
      "input    : [[[0. 1. 2. 3. 4. 5. 6. 7. 8. 9.]]]\n",
      "kernel   : [[[0.5 0.5]]]\n",
      "output   : [[[0.5 1.5 2.5 3.5 4.5 5.5 6.5 7.5 8.5]]]\n",
      "out shape: (1, 1, 9)\n"
     ]
    }
   ],
   "source": [
    "my_conv1d = nn.Conv1d(in_channels=1, out_channels=1, kernel_size=2, bias=False, stride=1, padding=0, padding_mode='zeros', dilation=1)\n",
    "my_conv1d.weight = nn.Parameter(torch.ones(1, 1, 2)/2)\n",
    " \n",
    "with torch.no_grad():\n",
    "    output = my_conv1d(x)\n",
    "    print(f'input    : {x.numpy()}')\n",
    "    print(f'kernel   : {my_conv1d.weight.numpy()}')\n",
    "    print(f'output   : {output.numpy()}')\n",
    "    print(f'out shape: {output.numpy().shape}')"
   ]
  },
  {
   "cell_type": "markdown",
   "id": "b063e4af-75db-42d7-9f08-92832656aa5f",
   "metadata": {},
   "source": [
    "### Causal Conv1D\n",
    "\n",
    "![image.png](causalconv1d.png)"
   ]
  },
  {
   "cell_type": "code",
   "execution_count": 13,
   "id": "c44acfc5-1b7f-46a7-ab1b-55ed136bdf33",
   "metadata": {
    "execution": {
     "iopub.execute_input": "2023-05-09T09:22:03.503134Z",
     "iopub.status.busy": "2023-05-09T09:22:03.503134Z",
     "iopub.status.idle": "2023-05-09T09:22:03.518149Z",
     "shell.execute_reply": "2023-05-09T09:22:03.518149Z",
     "shell.execute_reply.started": "2023-05-09T09:22:03.503134Z"
    },
    "tags": []
   },
   "outputs": [],
   "source": [
    "class CausalConv1d(nn.Module):\n",
    "    def __init__(self, in_channels, out_channels, kernel_size, dilation=1):\n",
    "        super(CausalConv1d, self).__init__()\n",
    "        self.padding = (kernel_size - 1)*dilation\n",
    "        self.conv1d = nn.Conv1d(in_channels, out_channels, kernel_size, bias=False, padding=self.padding, dilation=dilation)\n",
    "\n",
    "    def forward(self, x):\n",
    "        x = self.conv1d(x)\n",
    "        x = x[:, :, :-self.padding] # drop the right padded calculations\n",
    "        return x"
   ]
  },
  {
   "cell_type": "code",
   "execution_count": 14,
   "id": "dde8c981-d385-4919-a4b8-147f4f065fb5",
   "metadata": {
    "execution": {
     "iopub.execute_input": "2023-05-09T09:22:03.520150Z",
     "iopub.status.busy": "2023-05-09T09:22:03.519149Z",
     "iopub.status.idle": "2023-05-09T09:22:03.534163Z",
     "shell.execute_reply": "2023-05-09T09:22:03.534163Z",
     "shell.execute_reply.started": "2023-05-09T09:22:03.520150Z"
    },
    "tags": []
   },
   "outputs": [
    {
     "name": "stdout",
     "output_type": "stream",
     "text": [
      "input    : [[[0. 1. 2. 3. 4. 5. 6. 7. 8. 9.]]]\n",
      "kernel   : [[[1. 1. 1.]]]\n",
      "output   : [[[ 0.  1.  3.  6.  9. 12. 15. 18. 21. 24.]]]\n",
      "out shape: (1, 1, 10)\n"
     ]
    }
   ],
   "source": [
    "my_conv1d = CausalConv1d(in_channels=1, out_channels=1, kernel_size=3) # padding is (3 - 1)*1 = 2\n",
    "my_conv1d.conv1d.weight = nn.Parameter(torch.ones(out_channels, in_channels, kernel_size))\n",
    "\n",
    "with torch.no_grad():\n",
    "    output = my_conv1d(x)\n",
    "    print(f'input    : {x.numpy()}')\n",
    "    print(f'kernel   : {my_conv1d.conv1d.weight.numpy()}')\n",
    "    print(f'output   : {output.numpy()}')\n",
    "    print(f'out shape: {output.numpy().shape}')"
   ]
  },
  {
   "cell_type": "code",
   "execution_count": null,
   "id": "67adf92d-67ae-4f70-b351-585e474f6ebb",
   "metadata": {},
   "outputs": [],
   "source": []
  }
 ],
 "metadata": {
  "kernelspec": {
   "display_name": "Python [conda env:master-env-v1]",
   "language": "python",
   "name": "conda-env-master-env-v1-py"
  },
  "language_info": {
   "codemirror_mode": {
    "name": "ipython",
    "version": 3
   },
   "file_extension": ".py",
   "mimetype": "text/x-python",
   "name": "python",
   "nbconvert_exporter": "python",
   "pygments_lexer": "ipython3",
   "version": "3.10.10"
  }
 },
 "nbformat": 4,
 "nbformat_minor": 5
}
