{
 "cells": [
  {
   "cell_type": "markdown",
   "id": "081d62b1-3b5c-42dc-a54d-2cb56d367665",
   "metadata": {},
   "source": [
    "## Batchnorm and Dropout with PyTorch\n",
    "\n",
    "Click [here](https://pytorch.org/docs/stable/generated/torch.nn.BatchNorm2d.html) for the full documentation of PyTorch's 2D Batchnorm layer.\n",
    "\n",
    "Click [here](https://pytorch.org/docs/stable/generated/torch.nn.Dropout.html) for the full documentation of PyTorch's Dropout layer."
   ]
  },
  {
   "cell_type": "markdown",
   "id": "e4721232-0053-47db-a975-08553b9e3d07",
   "metadata": {},
   "source": [
    "### Batchnorm"
   ]
  },
  {
   "cell_type": "code",
   "execution_count": 1,
   "id": "06efadd5-9733-412c-9032-2e97e45da634",
   "metadata": {
    "execution": {
     "iopub.execute_input": "2023-05-10T11:45:46.063529Z",
     "iopub.status.busy": "2023-05-10T11:45:46.063529Z",
     "iopub.status.idle": "2023-05-10T11:45:47.699956Z",
     "shell.execute_reply": "2023-05-10T11:45:47.699956Z",
     "shell.execute_reply.started": "2023-05-10T11:45:46.063529Z"
    },
    "tags": []
   },
   "outputs": [],
   "source": [
    "import numpy as np\n",
    "import matplotlib.pyplot as plt\n",
    "\n",
    "import torch\n",
    "import torch.nn as nn"
   ]
  },
  {
   "cell_type": "code",
   "execution_count": 2,
   "id": "759c2062-8226-4351-8a08-f6129b782268",
   "metadata": {
    "execution": {
     "iopub.execute_input": "2023-05-10T11:45:47.701958Z",
     "iopub.status.busy": "2023-05-10T11:45:47.700957Z",
     "iopub.status.idle": "2023-05-10T11:45:48.160082Z",
     "shell.execute_reply": "2023-05-10T11:45:48.160082Z",
     "shell.execute_reply.started": "2023-05-10T11:45:47.701958Z"
    },
    "tags": []
   },
   "outputs": [],
   "source": [
    "import pickle\n",
    "import gzip\n",
    "\n",
    "with gzip.open('mnist.pkl.gz', 'rb') as f:\n",
    "    ((x_train, y_train), (x_valid, y_valid), _) = pickle.load(f, encoding='latin-1')\n",
    "    \n",
    "x_train, y_train, x_valid, y_valid = map(torch.tensor, (x_train, y_train, x_valid, y_valid))\n",
    "x_train = x_train.reshape((-1, 1, 28, 28))\n",
    "x_valid = x_valid.reshape((-1, 1, 28, 28)) # shape is (batch, channels, height, width)"
   ]
  },
  {
   "cell_type": "code",
   "execution_count": 3,
   "id": "6e121e29-809d-42d7-b683-5935e8aa8a29",
   "metadata": {
    "execution": {
     "iopub.execute_input": "2023-05-10T11:45:48.161083Z",
     "iopub.status.busy": "2023-05-10T11:45:48.161083Z",
     "iopub.status.idle": "2023-05-10T11:45:48.176096Z",
     "shell.execute_reply": "2023-05-10T11:45:48.176096Z",
     "shell.execute_reply.started": "2023-05-10T11:45:48.161083Z"
    },
    "tags": []
   },
   "outputs": [
    {
     "data": {
      "text/plain": [
       "torch.Size([50000, 1, 28, 28])"
      ]
     },
     "execution_count": 3,
     "metadata": {},
     "output_type": "execute_result"
    }
   ],
   "source": [
    "x_train.shape"
   ]
  },
  {
   "cell_type": "code",
   "execution_count": 102,
   "id": "c45184ac-0c77-4653-9a26-ce2392297686",
   "metadata": {
    "execution": {
     "iopub.execute_input": "2023-05-10T16:25:41.842671Z",
     "iopub.status.busy": "2023-05-10T16:25:41.842671Z",
     "iopub.status.idle": "2023-05-10T16:25:41.859686Z",
     "shell.execute_reply": "2023-05-10T16:25:41.859686Z",
     "shell.execute_reply.started": "2023-05-10T16:25:41.842671Z"
    },
    "tags": []
   },
   "outputs": [
    {
     "data": {
      "text/plain": [
       "torch.Size([2, 1, 28, 28])"
      ]
     },
     "execution_count": 102,
     "metadata": {},
     "output_type": "execute_result"
    }
   ],
   "source": [
    "xb = x_train[0:2]\n",
    "xb.shape"
   ]
  },
  {
   "cell_type": "code",
   "execution_count": 123,
   "id": "ba5f237a-ffb4-4aed-84e0-1369454937c7",
   "metadata": {
    "execution": {
     "iopub.execute_input": "2023-05-10T16:50:57.283397Z",
     "iopub.status.busy": "2023-05-10T16:50:57.283397Z",
     "iopub.status.idle": "2023-05-10T16:50:57.298410Z",
     "shell.execute_reply": "2023-05-10T16:50:57.298410Z",
     "shell.execute_reply.started": "2023-05-10T16:50:57.283397Z"
    },
    "tags": []
   },
   "outputs": [
    {
     "name": "stdout",
     "output_type": "stream",
     "text": [
      "torch.Size([1])\n",
      "Parameter containing:\n",
      "tensor([1.], requires_grad=True)\n",
      "torch.Size([1])\n",
      "Parameter containing:\n",
      "tensor([0.], requires_grad=True)\n"
     ]
    }
   ],
   "source": [
    "my_batchnorm = nn.BatchNorm2d(num_features=1) # number of channels\n",
    "\n",
    "for p in my_batchnorm.parameters():\n",
    "    print(p.shape)\n",
    "    print(p)"
   ]
  },
  {
   "cell_type": "code",
   "execution_count": 124,
   "id": "7da9d301-719d-45ba-af67-a0992846f8af",
   "metadata": {
    "execution": {
     "iopub.execute_input": "2023-05-10T16:50:57.885924Z",
     "iopub.status.busy": "2023-05-10T16:50:57.885924Z",
     "iopub.status.idle": "2023-05-10T16:50:57.890928Z",
     "shell.execute_reply": "2023-05-10T16:50:57.890928Z",
     "shell.execute_reply.started": "2023-05-10T16:50:57.885924Z"
    },
    "tags": []
   },
   "outputs": [
    {
     "name": "stdout",
     "output_type": "stream",
     "text": [
      "torch.Size([2, 1, 28, 28])\n"
     ]
    }
   ],
   "source": [
    "out = my_batchnorm(xb)\n",
    "print(out.shape)"
   ]
  },
  {
   "cell_type": "code",
   "execution_count": 125,
   "id": "7cde7bdd-c24e-42ff-a8e3-342c7b3cd1a1",
   "metadata": {
    "execution": {
     "iopub.execute_input": "2023-05-10T16:50:58.998942Z",
     "iopub.status.busy": "2023-05-10T16:50:58.997941Z",
     "iopub.status.idle": "2023-05-10T16:50:59.005947Z",
     "shell.execute_reply": "2023-05-10T16:50:59.005947Z",
     "shell.execute_reply.started": "2023-05-10T16:50:58.998942Z"
    },
    "tags": []
   },
   "outputs": [
    {
     "data": {
      "text/plain": [
       "tensor([[[[-0.4569, -0.4569, -0.4569,  ..., -0.4569, -0.4569, -0.4569],\n",
       "          [-0.4569, -0.4569, -0.4569,  ..., -0.4569, -0.4569, -0.4569],\n",
       "          [-0.4569, -0.4569, -0.4569,  ..., -0.4569, -0.4569, -0.4569],\n",
       "          ...,\n",
       "          [-0.4569, -0.4569, -0.4569,  ..., -0.4569, -0.4569, -0.4569],\n",
       "          [-0.4569, -0.4569, -0.4569,  ..., -0.4569, -0.4569, -0.4569],\n",
       "          [-0.4569, -0.4569, -0.4569,  ..., -0.4569, -0.4569, -0.4569]]],\n",
       "\n",
       "\n",
       "        [[[-0.4569, -0.4569, -0.4569,  ..., -0.4569, -0.4569, -0.4569],\n",
       "          [-0.4569, -0.4569, -0.4569,  ..., -0.4569, -0.4569, -0.4569],\n",
       "          [-0.4569, -0.4569, -0.4569,  ..., -0.4569, -0.4569, -0.4569],\n",
       "          ...,\n",
       "          [-0.4569, -0.4569, -0.4569,  ..., -0.4569, -0.4569, -0.4569],\n",
       "          [-0.4569, -0.4569, -0.4569,  ..., -0.4569, -0.4569, -0.4569],\n",
       "          [-0.4569, -0.4569, -0.4569,  ..., -0.4569, -0.4569, -0.4569]]]],\n",
       "       grad_fn=<NativeBatchNormBackward0>)"
      ]
     },
     "execution_count": 125,
     "metadata": {},
     "output_type": "execute_result"
    }
   ],
   "source": [
    "out"
   ]
  },
  {
   "cell_type": "code",
   "execution_count": 132,
   "id": "04925150-2b17-4dc8-a745-6772195004f2",
   "metadata": {
    "execution": {
     "iopub.execute_input": "2023-05-10T16:52:40.456044Z",
     "iopub.status.busy": "2023-05-10T16:52:40.455094Z",
     "iopub.status.idle": "2023-05-10T16:52:40.465052Z",
     "shell.execute_reply": "2023-05-10T16:52:40.465052Z",
     "shell.execute_reply.started": "2023-05-10T16:52:40.456044Z"
    },
    "tags": []
   },
   "outputs": [
    {
     "data": {
      "text/plain": [
       "tensor([[[[-0.4569, -0.4569, -0.4569,  ..., -0.4569, -0.4569, -0.4569],\n",
       "          [-0.4569, -0.4569, -0.4569,  ..., -0.4569, -0.4569, -0.4569],\n",
       "          [-0.4569, -0.4569, -0.4569,  ..., -0.4569, -0.4569, -0.4569],\n",
       "          ...,\n",
       "          [-0.4569, -0.4569, -0.4569,  ..., -0.4569, -0.4569, -0.4569],\n",
       "          [-0.4569, -0.4569, -0.4569,  ..., -0.4569, -0.4569, -0.4569],\n",
       "          [-0.4569, -0.4569, -0.4569,  ..., -0.4569, -0.4569, -0.4569]]],\n",
       "\n",
       "\n",
       "        [[[-0.4569, -0.4569, -0.4569,  ..., -0.4569, -0.4569, -0.4569],\n",
       "          [-0.4569, -0.4569, -0.4569,  ..., -0.4569, -0.4569, -0.4569],\n",
       "          [-0.4569, -0.4569, -0.4569,  ..., -0.4569, -0.4569, -0.4569],\n",
       "          ...,\n",
       "          [-0.4569, -0.4569, -0.4569,  ..., -0.4569, -0.4569, -0.4569],\n",
       "          [-0.4569, -0.4569, -0.4569,  ..., -0.4569, -0.4569, -0.4569],\n",
       "          [-0.4569, -0.4569, -0.4569,  ..., -0.4569, -0.4569, -0.4569]]]])"
      ]
     },
     "execution_count": 132,
     "metadata": {},
     "output_type": "execute_result"
    }
   ],
   "source": [
    "(xb - xb.mean(dim=(0, 2, 3), keepdims=True))/(torch.sqrt(xb.var(dim=(0, 2, 3), unbiased=False, keepdims=True) + 1e-5))"
   ]
  },
  {
   "cell_type": "markdown",
   "id": "8f7e5fad-75aa-4067-a21e-628420a044e7",
   "metadata": {},
   "source": [
    "### Dropout"
   ]
  },
  {
   "cell_type": "code",
   "execution_count": 160,
   "id": "f364b7f8-792c-429e-9b35-bd79c46d6219",
   "metadata": {
    "execution": {
     "iopub.execute_input": "2023-05-10T16:59:30.021432Z",
     "iopub.status.busy": "2023-05-10T16:59:30.020431Z",
     "iopub.status.idle": "2023-05-10T16:59:30.030441Z",
     "shell.execute_reply": "2023-05-10T16:59:30.030441Z",
     "shell.execute_reply.started": "2023-05-10T16:59:30.021432Z"
    },
    "tags": []
   },
   "outputs": [
    {
     "name": "stdout",
     "output_type": "stream",
     "text": [
      "tensor([[-1.1562, -0.2661,  1.4779,  0.4316,  0.1407]])\n",
      "tensor([[-0.0000, -0.0000, 2.9557, 0.8633, 0.2814]])\n"
     ]
    }
   ],
   "source": [
    "my_dropout = nn.Dropout(p=0.5)\n",
    "\n",
    "x = torch.randn(1, 5)\n",
    "#my_dropout.eval() # outputs are scaled by a factor of 1/(1-p) during training\n",
    "out = my_dropout(x)\n",
    "\n",
    "print(x)\n",
    "print(out) "
   ]
  },
  {
   "cell_type": "code",
   "execution_count": null,
   "id": "8bb8bd42-d655-4371-b4ab-ef3f943bb05d",
   "metadata": {},
   "outputs": [],
   "source": []
  }
 ],
 "metadata": {
  "kernelspec": {
   "display_name": "Python [conda env:master-env-v1]",
   "language": "python",
   "name": "conda-env-master-env-v1-py"
  },
  "language_info": {
   "codemirror_mode": {
    "name": "ipython",
    "version": 3
   },
   "file_extension": ".py",
   "mimetype": "text/x-python",
   "name": "python",
   "nbconvert_exporter": "python",
   "pygments_lexer": "ipython3",
   "version": "3.10.10"
  }
 },
 "nbformat": 4,
 "nbformat_minor": 5
}
